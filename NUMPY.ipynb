{
 "cells": [
  {
   "cell_type": "code",
   "execution_count": 1,
   "metadata": {},
   "outputs": [],
   "source": [
    "import numpy as np"
   ]
  },
  {
   "cell_type": "code",
   "execution_count": 2,
   "metadata": {},
   "outputs": [],
   "source": [
    "Nump_array=np.array([[1,2,3],[4,5,6]])\n",
    "np1=np.array([[1,3],[2,3]])\n",
    "np2=np.array([[1,2],[4,5]])"
   ]
  },
  {
   "cell_type": "code",
   "execution_count": 9,
   "metadata": {},
   "outputs": [
    {
     "name": "stdout",
     "output_type": "stream",
     "text": [
      "[[1 2 3]\n",
      " [4 5 6]] \n",
      "\n",
      " [[1 3]\n",
      " [2 3]] \n",
      "\n",
      " [[1 2]\n",
      " [4 5]]\n"
     ]
    }
   ],
   "source": [
    "print(Nump_array,\"\\n\"*2,np1,\"\\n\"*2,np2)"
   ]
  },
  {
   "cell_type": "code",
   "execution_count": 11,
   "metadata": {},
   "outputs": [
    {
     "name": "stdout",
     "output_type": "stream",
     "text": [
      "[[13 17]\n",
      " [14 19]] \n",
      "\n",
      " \n",
      "\n",
      " [[ 1  6]\n",
      " [ 8 15]] \n",
      "\n",
      " [[13 17]\n",
      " [14 19]] \n",
      "\n",
      " [[ 1  6]\n",
      " [ 8 15]]\n"
     ]
    }
   ],
   "source": [
    "mnp=np1@np2\n",
    "mnp2=np1*np2\n",
    "mnp3=np.dot(np1,np2)\n",
    "mnp4=np.multiply(np1,np2)\n",
    "\n",
    "print(mnp,\"\\n\"*2,\"\\n\"*2,mnp2,'\\n'*2,mnp3,\"\\n\"*2,mnp4)"
   ]
  },
  {
   "cell_type": "code",
   "execution_count": 17,
   "metadata": {},
   "outputs": [
    {
     "name": "stdout",
     "output_type": "stream",
     "text": [
      "np1= [[1 3]\n",
      " [2 3]] \n",
      "\n",
      " np2 = [[1 2]\n",
      " [4 5]] \n",
      "\n",
      "[[2 5]\n",
      " [6 8]] \n",
      "\n",
      " 9 \n",
      "\n",
      " [[ 0  1]\n",
      " [-2 -2]] \n",
      "\n",
      " [[ 0  1]\n",
      " [-2 -2]]\n"
     ]
    }
   ],
   "source": [
    "sum1=np1+np2\n",
    "sub1=np1-np2\n",
    "sub2=np.subtract(np1, np2)\n",
    "summation=np.sum(np1)\n",
    "print(\"np1=\",np1,'\\n'*2,\"np2\",'=',np2,'\\n')\n",
    "print(sum1,\"\\n\"*2,summation,'\\n'*2,sub1,\"\\n\"*2,sub2)"
   ]
  },
  {
   "cell_type": "code",
   "execution_count": 21,
   "metadata": {},
   "outputs": [
    {
     "name": "stdout",
     "output_type": "stream",
     "text": [
      "[[1 3]\n",
      " [2 3]]\n",
      "[[4 6]\n",
      " [5 6]]\n",
      "[[2 6]\n",
      " [3 6]]\n"
     ]
    }
   ],
   "source": [
    "print(np1)\n",
    "broad_nump=np1+3\n",
    "print(broad_nump)\n",
    "np3=np.array([[1,3]])\n",
    "print(np1+np3)"
   ]
  },
  {
   "cell_type": "code",
   "execution_count": 22,
   "metadata": {},
   "outputs": [
    {
     "name": "stdout",
     "output_type": "stream",
     "text": [
      "[[1.  1.5]\n",
      " [0.5 0.6]]\n",
      "[0.2 0.4 0.6]\n",
      "[0 0 0]\n"
     ]
    }
   ],
   "source": [
    "d=np.divide(np1,np2)\n",
    "d1=np.divide([1,2,3],5)\n",
    "d2=np.floor_divide([1,2,3],5)\n",
    "print(d)\n",
    "print(d1)\n",
    "print(d2)"
   ]
  },
  {
   "cell_type": "code",
   "execution_count": 23,
   "metadata": {},
   "outputs": [
    {
     "data": {
      "text/plain": [
       "3.1622776601683795"
      ]
     },
     "execution_count": 23,
     "metadata": {},
     "output_type": "execute_result"
    }
   ],
   "source": [
    "np.math.sqrt(10)"
   ]
  },
  {
   "cell_type": "code",
   "execution_count": 24,
   "metadata": {},
   "outputs": [
    {
     "data": {
      "text/plain": [
       "array([[-0.30159373,  0.05313643, -1.04650823, -0.16003874],\n",
       "       [-0.65446512,  0.59104175, -0.6128609 , -0.18955967],\n",
       "       [-0.79940708,  0.63060534,  0.80860649, -1.0151232 ]])"
      ]
     },
     "execution_count": 24,
     "metadata": {},
     "output_type": "execute_result"
    }
   ],
   "source": [
    "np.random.standard_normal((3,4))"
   ]
  },
  {
   "cell_type": "code",
   "execution_count": 26,
   "metadata": {},
   "outputs": [
    {
     "data": {
      "text/plain": [
       "array([[ 9.63999232,  6.61664863, 10.40147701,  9.38904113],\n",
       "       [ 8.91759796,  7.94915535, 11.07671748,  1.14576338],\n",
       "       [10.32239664,  4.03836226, 10.01492707,  8.72859461]])"
      ]
     },
     "execution_count": 26,
     "metadata": {},
     "output_type": "execute_result"
    }
   ],
   "source": [
    "np.random.uniform(1,12,(3,4))"
   ]
  },
  {
   "cell_type": "code",
   "execution_count": 28,
   "metadata": {},
   "outputs": [
    {
     "data": {
      "text/plain": [
       "0.20334280175029495"
      ]
     },
     "execution_count": 28,
     "metadata": {},
     "output_type": "execute_result"
    }
   ],
   "source": [
    "np.random.rand()"
   ]
  },
  {
   "cell_type": "code",
   "execution_count": 29,
   "metadata": {},
   "outputs": [
    {
     "data": {
      "text/plain": [
       "array([[3, 4]])"
      ]
     },
     "execution_count": 29,
     "metadata": {},
     "output_type": "execute_result"
    }
   ],
   "source": [
    "np.random.randint(2,5,(1,2))"
   ]
  },
  {
   "cell_type": "code",
   "execution_count": 31,
   "metadata": {},
   "outputs": [
    {
     "data": {
      "text/plain": [
       "4"
      ]
     },
     "execution_count": 31,
     "metadata": {},
     "output_type": "execute_result"
    }
   ],
   "source": [
    "np.random.randint(2,5)"
   ]
  },
  {
   "cell_type": "code",
   "execution_count": 32,
   "metadata": {},
   "outputs": [
    {
     "data": {
      "text/plain": [
       "array([[0., 0., 0., 0.],\n",
       "       [0., 0., 0., 0.],\n",
       "       [0., 0., 0., 0.]])"
      ]
     },
     "execution_count": 32,
     "metadata": {},
     "output_type": "execute_result"
    }
   ],
   "source": [
    "np.zeros((3,4))"
   ]
  },
  {
   "cell_type": "code",
   "execution_count": 33,
   "metadata": {},
   "outputs": [
    {
     "data": {
      "text/plain": [
       "array([[1., 1., 1., 1.],\n",
       "       [1., 1., 1., 1.],\n",
       "       [1., 1., 1., 1.]])"
      ]
     },
     "execution_count": 33,
     "metadata": {},
     "output_type": "execute_result"
    }
   ],
   "source": [
    "np.ones((3,4))"
   ]
  },
  {
   "cell_type": "code",
   "execution_count": 43,
   "metadata": {},
   "outputs": [],
   "source": [
    "ud=np.random.uniform(1,12,(3,4))\n"
   ]
  },
  {
   "cell_type": "code",
   "execution_count": 42,
   "metadata": {},
   "outputs": [
    {
     "name": "stdout",
     "output_type": "stream",
     "text": [
      "[[False  True  True False]\n",
      " [ True  True  True  True]\n",
      " [ True False False  True]]\n",
      "[[10.98920617  7.66769984  4.85509737 10.42196021]\n",
      " [ 6.87110881  5.76645464  5.78451908  4.68865007]\n",
      " [ 3.23941059 11.32806988 11.14491909  6.11186075]]\n"
     ]
    },
    {
     "data": {
      "text/plain": [
       "array([7.66769984, 4.85509737, 6.87110881, 5.76645464, 5.78451908,\n",
       "       4.68865007, 3.23941059, 6.11186075])"
      ]
     },
     "execution_count": 42,
     "metadata": {},
     "output_type": "execute_result"
    }
   ],
   "source": [
    "filter_var=np.logical_and(ud>2,ud<8)\n",
    "filter_array=ud[filter_var]\n",
    "print(filter_var)\n",
    "print(ud)\n",
    "filter_array"
   ]
  },
  {
   "cell_type": "code",
   "execution_count": 44,
   "metadata": {},
   "outputs": [],
   "source": [
    "data_n=np.array([1,5,7,4,3,9])"
   ]
  },
  {
   "cell_type": "code",
   "execution_count": 49,
   "metadata": {},
   "outputs": [
    {
     "data": {
      "text/plain": [
       "4.5"
      ]
     },
     "execution_count": 49,
     "metadata": {},
     "output_type": "execute_result"
    }
   ],
   "source": [
    "np.median(data_n)\n"
   ]
  },
  {
   "cell_type": "code",
   "execution_count": 46,
   "metadata": {},
   "outputs": [
    {
     "data": {
      "text/plain": [
       "4.833333333333333"
      ]
     },
     "execution_count": 46,
     "metadata": {},
     "output_type": "execute_result"
    }
   ],
   "source": [
    "np.mean(data_n)"
   ]
  },
  {
   "cell_type": "code",
   "execution_count": 47,
   "metadata": {},
   "outputs": [
    {
     "data": {
      "text/plain": [
       "2.608745973749755"
      ]
     },
     "execution_count": 47,
     "metadata": {},
     "output_type": "execute_result"
    }
   ],
   "source": [
    "np.std(data_n)"
   ]
  },
  {
   "cell_type": "code",
   "execution_count": 48,
   "metadata": {},
   "outputs": [
    {
     "data": {
      "text/plain": [
       "6.805555555555556"
      ]
     },
     "execution_count": 48,
     "metadata": {},
     "output_type": "execute_result"
    }
   ],
   "source": [
    "np.var(data_n)\n"
   ]
  },
  {
   "cell_type": "code",
   "execution_count": 50,
   "metadata": {},
   "outputs": [],
   "source": [
    "arr=np.array([[1,2,34,9],[5,6,7,8]])"
   ]
  },
  {
   "cell_type": "code",
   "execution_count": 51,
   "metadata": {},
   "outputs": [
    {
     "data": {
      "text/plain": [
       "array([178.25,   1.25])"
      ]
     },
     "execution_count": 51,
     "metadata": {},
     "output_type": "execute_result"
    }
   ],
   "source": [
    "np.var(arr,axis=1)"
   ]
  },
  {
   "cell_type": "code",
   "execution_count": 52,
   "metadata": {},
   "outputs": [
    {
     "data": {
      "text/plain": [
       "array([  4.  ,   4.  , 182.25,   0.25])"
      ]
     },
     "execution_count": 52,
     "metadata": {},
     "output_type": "execute_result"
    }
   ],
   "source": [
    "np.var(arr,axis=0)"
   ]
  },
  {
   "cell_type": "code",
   "execution_count": null,
   "metadata": {},
   "outputs": [],
   "source": []
  }
 ],
 "metadata": {
  "kernelspec": {
   "display_name": "Python 3",
   "language": "python",
   "name": "python3"
  },
  "language_info": {
   "codemirror_mode": {
    "name": "ipython",
    "version": 3
   },
   "file_extension": ".py",
   "mimetype": "text/x-python",
   "name": "python",
   "nbconvert_exporter": "python",
   "pygments_lexer": "ipython3",
   "version": "3.9.1"
  }
 },
 "nbformat": 4,
 "nbformat_minor": 4
}
